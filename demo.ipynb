{
 "cells": [
  {
   "cell_type": "markdown",
   "metadata": {},
   "source": [
    "# Personal HTCondor Pool Demo"
   ]
  },
  {
   "cell_type": "markdown",
   "metadata": {},
   "source": [
    "A Personal HTCondor Pool is an HTCondor Pool that has a single Owner, who is defined by being:\n",
    "- The pool’s only Administrator.\n",
    "- The only Submitter who is allowed to submit to the pool’s SchedD.\n",
    "- The Resource Owner of all resources managed by the pool."
   ]
  },
  {
   "cell_type": "code",
   "execution_count": 1,
   "metadata": {},
   "outputs": [],
   "source": [
    "import logging\n",
    "from pathlib import Path\n",
    "\n",
    "import htcondor\n",
    "import classad\n",
    "\n",
    "from personal import PersonalPool"
   ]
  },
  {
   "cell_type": "code",
   "execution_count": 2,
   "metadata": {},
   "outputs": [],
   "source": [
    "logging.basicConfig(format=\"%(asctime)s ~ %(msg)s\", level=logging.DEBUG)"
   ]
  },
  {
   "cell_type": "markdown",
   "metadata": {},
   "source": [
    "We can start a personal pool by making a `PersonalPool` and calling its `start()` method."
   ]
  },
  {
   "cell_type": "code",
   "execution_count": null,
   "metadata": {},
   "outputs": [],
   "source": [
    "p = PersonalPool().start().detach()\n",
    "p.stop()"
   ]
  },
  {
   "cell_type": "code",
   "execution_count": 3,
   "metadata": {},
   "outputs": [
    {
     "data": {
      "text/plain": [
       "PersonalPool(local_dir = ~/.condor/personal, state = uninitialized)"
      ]
     },
     "execution_count": 3,
     "metadata": {},
     "output_type": "execute_result"
    }
   ],
   "source": [
    "pool = PersonalPool()\n",
    "pool"
   ]
  },
  {
   "cell_type": "code",
   "execution_count": 4,
   "metadata": {},
   "outputs": [
    {
     "name": "stderr",
     "output_type": "stream",
     "text": [
      "2020-06-18 15:47:53,283 ~ Starting PersonalPool(local_dir = ~/.condor/personal, state = uninitialized)\n",
      "2020-06-18 15:47:53,291 ~ State of PersonalPool(local_dir = ~/.condor/personal, state = initialized) changed from uninitialized to initialized\n",
      "2020-06-18 15:47:53,328 ~ State of PersonalPool(local_dir = ~/.condor/personal, state = started) changed from initialized to started\n",
      "2020-06-18 15:47:53,329 ~ Started condor_master (pid 2982) for PersonalPool(local_dir = ~/.condor/personal, state = started)\n",
      "2020-06-18 15:47:53,346 ~ Starting up daemons for PersonalPool(local_dir = ~/.condor/personal, state = started), waiting for: COLLECTOR MASTER NEGOTIATOR SCHEDD STARTD\n",
      "2020-06-18 15:47:53,355 ~ condor_who stdout was unexpectedly blank for PersonalPool(local_dir = ~/.condor/personal, state = started), retrying in 1 second (giving up in 119 seconds).\n",
      "2020-06-18 15:47:54,394 ~ condor_who stdout was unexpectedly blank for PersonalPool(local_dir = ~/.condor/personal, state = started), retrying in 1 second (giving up in 118 seconds).\n",
      "2020-06-18 15:48:01,123 ~ State of PersonalPool(local_dir = ~/.condor/personal, state = ready) changed from started to ready\n",
      "2020-06-18 15:48:01,124 ~ Started PersonalPool(local_dir = ~/.condor/personal, state = ready)\n"
     ]
    },
    {
     "data": {
      "text/plain": [
       "PersonalPool(local_dir = ~/.condor/personal, state = ready)"
      ]
     },
     "execution_count": 4,
     "metadata": {},
     "output_type": "execute_result"
    }
   ],
   "source": [
    "pool.start()\n",
    "pool"
   ]
  },
  {
   "cell_type": "code",
   "execution_count": 5,
   "metadata": {},
   "outputs": [
    {
     "name": "stdout",
     "output_type": "stream",
     "text": [
      "/home/jovyan/.condor/personal\n"
     ]
    }
   ],
   "source": [
    "print(pool.get_config_val(\"LOCAL_DIR\"))"
   ]
  },
  {
   "cell_type": "code",
   "execution_count": 6,
   "metadata": {},
   "outputs": [
    {
     "name": "stdout",
     "output_type": "stream",
     "text": [
      "# Configuration from machine: 732f216e3e3e\n",
      "\n",
      "# Parameters with names that match LOCAL_DIR:\n",
      "FS_LOCAL_DIR = \n",
      "LOCAL_DIR = /home/jovyan/.condor/personal\n",
      "# Contributing configuration file(s):\n",
      "#\t/home/jovyan/.condor/personal/condor_config\n"
     ]
    }
   ],
   "source": [
    "print(pool.run_command([\"condor_config_val\", \"-dump\", \"LOCAL_DIR\"]).stdout)"
   ]
  },
  {
   "cell_type": "code",
   "execution_count": 7,
   "metadata": {},
   "outputs": [
    {
     "name": "stdout",
     "output_type": "stream",
     "text": [
      "\n",
      "    [\n",
      "        AuthenticatedIdentity = \"condor@family\"; \n",
      "        ResourcesUsed = 0; \n",
      "        GroupSortKey = 0.0; \n",
      "        SubtreeQuota = 0.0; \n",
      "        Name = \"<none>\"; \n",
      "        LastHeardFrom = 1592495279; \n",
      "        NegotiatorName = \"jovyan@732f216e3e3e\"; \n",
      "        DaemonStartTime = 1592495275; \n",
      "        Requested = 0.0; \n",
      "        WeightedResourcesUsed = 0.0; \n",
      "        DaemonLastReconfigTime = 1592495275; \n",
      "        UpdateSequenceNumber = 3; \n",
      "        PriorityFactor = 1.000000000000000E+03; \n",
      "        MyType = \"Accounting\"; \n",
      "        IsAccountingGroup = true; \n",
      "        LastUsageTime = 0; \n",
      "        SurplusPolicy = \"byquota\"; \n",
      "        EffectiveQuota = 0.0; \n",
      "        LastUpdate = 1592495279; \n",
      "        WeightedAccumulatedUsage = 0.0; \n",
      "        Priority = 5.000000000000000E+02; \n",
      "        AccumulatedUsage = 0.0; \n",
      "        ConfigQuota = 0.0; \n",
      "        TargetType = \"none\"; \n",
      "        AuthenticationMethod = \"FS,PASSWORD,TOKEN\"; \n",
      "        BeginUsageTime = 0; \n",
      "        AccountingGroup = \"<none>\"\n",
      "    ]\n"
     ]
    }
   ],
   "source": [
    "with pool.collector() as coll:\n",
    "    print(coll.query()[0])"
   ]
  },
  {
   "cell_type": "code",
   "execution_count": 8,
   "metadata": {},
   "outputs": [
    {
     "name": "stdout",
     "output_type": "stream",
     "text": [
      "ClusterID is 1\n",
      "[ ClusterID = 1; ProcID = 0; JobStatus = 1; ServerTime = 1592495281 ]\n",
      "[ ClusterID = 1; ProcID = 1; JobStatus = 1; ServerTime = 1592495281 ]\n",
      "[ ClusterID = 1; ProcID = 2; JobStatus = 1; ServerTime = 1592495281 ]\n",
      "[ ClusterID = 1; ProcID = 3; JobStatus = 1; ServerTime = 1592495281 ]\n",
      "[ ClusterID = 1; ProcID = 4; JobStatus = 1; ServerTime = 1592495281 ]\n"
     ]
    }
   ],
   "source": [
    "sub = htcondor.Submit(\n",
    "    executable = \"/bin/sleep\",\n",
    "    arguments = \"${ProcID}s\",\n",
    ")\n",
    "\n",
    "with pool.schedd() as schedd:\n",
    "    with schedd.transaction() as txn:\n",
    "        cluster_id = sub.queue(txn, 5)\n",
    "\n",
    "    print(f\"ClusterID is {cluster_id}\")\n",
    "    \n",
    "    for ad in schedd.query(\n",
    "        constraint = f\"ClusterID == {cluster_id}\", \n",
    "        attr_list = [\"ClusterID\", \"ProcID\", \"JobStatus\"]\n",
    "    ):\n",
    "        print(repr(ad))"
   ]
  },
  {
   "cell_type": "code",
   "execution_count": 9,
   "metadata": {},
   "outputs": [
    {
     "name": "stderr",
     "output_type": "stream",
     "text": [
      "2020-06-18 15:48:01,251 ~ Stopping PersonalPool(local_dir = ~/.condor/personal, state = ready)\n",
      "2020-06-18 15:48:01,251 ~ State of PersonalPool(local_dir = ~/.condor/personal, state = stopping) changed from ready to stopping\n",
      "2020-06-18 15:48:01,265 ~ condor_off succeeded for PersonalPool(local_dir = ~/.condor/personal, state = stopping): Sent \"Kill-Daemon\" command for \"master\" to local master\n",
      "2020-06-18 15:48:01,265 ~ Waiting for condor_master (pid 2982) for PersonalPool(local_dir = ~/.condor/personal, state = stopping) to terminate\n",
      "2020-06-18 15:48:01,280 ~ condor_master (pid 2982) for PersonalPool(local_dir = ~/.condor/personal, state = stopping) has terminated with exit code 0\n",
      "2020-06-18 15:48:01,281 ~ State of PersonalPool(local_dir = ~/.condor/personal, state = stopped) changed from stopping to stopped\n",
      "2020-06-18 15:48:01,281 ~ Stopped PersonalPool(local_dir = ~/.condor/personal, state = stopped)\n"
     ]
    }
   ],
   "source": [
    "pool.stop()"
   ]
  },
  {
   "cell_type": "markdown",
   "metadata": {},
   "source": [
    "Using the pool as a context manager makes it start/stop automatically."
   ]
  },
  {
   "cell_type": "code",
   "execution_count": null,
   "metadata": {},
   "outputs": [],
   "source": [
    "with PersonalPool() as pool:\n",
    "    print(pool.get_config_val(\"LOCAL_DIR\"))\n",
    "    condor_status = pool.run_command([\"condor_status\"]).stdout\n",
    "    print(condor_status)"
   ]
  },
  {
   "cell_type": "markdown",
   "metadata": {},
   "source": [
    "You can't have two personal pools with the same local directory at the same time."
   ]
  },
  {
   "cell_type": "code",
   "execution_count": null,
   "metadata": {},
   "outputs": [],
   "source": [
    "Stoppingp1 = PersonalPool(local_dir = Path.cwd() / \"target\")\n",
    "p2 = PersonalPool(local_dir = Path.cwd() / \"target\")"
   ]
  },
  {
   "cell_type": "code",
   "execution_count": null,
   "metadata": {},
   "outputs": [],
   "source": [
    "print(p1)\n",
    "print(p2)"
   ]
  },
  {
   "cell_type": "code",
   "execution_count": null,
   "metadata": {},
   "outputs": [],
   "source": [
    "p1.start()"
   ]
  },
  {
   "cell_type": "code",
   "execution_count": null,
   "metadata": {},
   "outputs": [],
   "source": [
    "p2.start()"
   ]
  },
  {
   "cell_type": "code",
   "execution_count": null,
   "metadata": {},
   "outputs": [],
   "source": [
    "p1.stop()"
   ]
  },
  {
   "cell_type": "code",
   "execution_count": null,
   "metadata": {},
   "outputs": [],
   "source": [
    "p2.start()\n",
    "p2.stop()"
   ]
  },
  {
   "cell_type": "code",
   "execution_count": null,
   "metadata": {},
   "outputs": [],
   "source": []
  }
 ],
 "metadata": {
  "kernelspec": {
   "display_name": "Python 3",
   "language": "python",
   "name": "python3"
  },
  "language_info": {
   "codemirror_mode": {
    "name": "ipython",
    "version": 3
   },
   "file_extension": ".py",
   "mimetype": "text/x-python",
   "name": "python",
   "nbconvert_exporter": "python",
   "pygments_lexer": "ipython3",
   "version": "3.7.6"
  }
 },
 "nbformat": 4,
 "nbformat_minor": 4
}
